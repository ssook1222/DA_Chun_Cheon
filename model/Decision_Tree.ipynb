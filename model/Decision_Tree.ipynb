{
  "nbformat": 4,
  "nbformat_minor": 0,
  "metadata": {
    "colab": {
      "provenance": [],
      "collapsed_sections": [
        "_DBk8Pk5-16S",
        "jqk6QU3G-3xg",
        "jPm-MuY9_C3T",
        "cPqwbwlO_aTr",
        "71dEt7fGAl-F"
      ],
      "authorship_tag": "ABX9TyMLP38kuJp/V9h8KQR4pwoP",
      "include_colab_link": true
    },
    "kernelspec": {
      "name": "python3",
      "display_name": "Python 3"
    },
    "language_info": {
      "name": "python"
    }
  },
  "cells": [
    {
      "cell_type": "markdown",
      "metadata": {
        "id": "view-in-github",
        "colab_type": "text"
      },
      "source": [
        "<a href=\"https://colab.research.google.com/github/ssook1222/DA_Chun_Cheon/blob/main/model/Decision_Tree.ipynb\" target=\"_parent\"><img src=\"https://colab.research.google.com/assets/colab-badge.svg\" alt=\"Open In Colab\"/></a>"
      ]
    },
    {
      "cell_type": "code",
      "source": [
        "import pandas as pd"
      ],
      "metadata": {
        "id": "p1QOiylroS-2"
      },
      "execution_count": 1,
      "outputs": []
    },
    {
      "cell_type": "markdown",
      "source": [
        "### 데이터 불러오기"
      ],
      "metadata": {
        "id": "S3Wl90zhaVFz"
      }
    },
    {
      "cell_type": "code",
      "source": [
        "from google.colab import drive\n",
        "drive.mount('/content/drive')"
      ],
      "metadata": {
        "id": "8c90wsqjnYNU",
        "colab": {
          "base_uri": "https://localhost:8080/"
        },
        "outputId": "fd7f08bc-bc60-490f-ecb1-0aa42dd6f98b"
      },
      "execution_count": 2,
      "outputs": [
        {
          "output_type": "stream",
          "name": "stdout",
          "text": [
            "Mounted at /content/drive\n"
          ]
        }
      ]
    },
    {
      "cell_type": "markdown",
      "source": [
        "#### 의료기관 데이터"
      ],
      "metadata": {
        "id": "_DBk8Pk5-16S"
      }
    },
    {
      "cell_type": "code",
      "source": [
        "csv_path_medical = '/content/drive/MyDrive/town_cc_big_data/data/행정동_강원도_춘천시_의료기관약국_20220805.csv'"
      ],
      "metadata": {
        "id": "wQ0hoAltoJl9"
      },
      "execution_count": 3,
      "outputs": []
    },
    {
      "cell_type": "code",
      "source": [
        "df_medical_raw = pd.read_csv(csv_path_medical)\n",
        "address_data = df_medical_raw['행정동']\n",
        "kind_data = df_medical_raw['종류']\n",
        "\n",
        "df_medical = pd.DataFrame({'종류': kind_data, '행정동': address_data})\n",
        "df_medical = df_medical.groupby('행정동').count().rename(columns={'종류': '병원 수'})\n",
        "df_medical = df_medical.sort_values('병원 수', ascending=True)"
      ],
      "metadata": {
        "id": "l10yJuqWoNAb"
      },
      "execution_count": 8,
      "outputs": []
    },
    {
      "cell_type": "markdown",
      "source": [
        "#### 독거노인 수 데이터"
      ],
      "metadata": {
        "id": "jqk6QU3G-3xg"
      }
    },
    {
      "cell_type": "code",
      "source": [
        "csv_path_old = '/content/drive/MyDrive/town_cc_big_data/data/강원도 춘천시_독거노인현황_20220620.csv'"
      ],
      "metadata": {
        "id": "eNMqsvBQ-7Xj"
      },
      "execution_count": 9,
      "outputs": []
    },
    {
      "cell_type": "code",
      "source": [
        "df_old_raw = pd.read_csv(csv_path_old, encoding='euc-kr')\n",
        "df_old = df_old_raw.groupby('행정동명')['인구수'].sum().reset_index()\n",
        "df_old = df_old.sort_values('인구수', ascending = False)"
      ],
      "metadata": {
        "id": "DqT146gK-ffS"
      },
      "execution_count": 10,
      "outputs": []
    },
    {
      "cell_type": "markdown",
      "source": [
        "#### 정신건강 관련 기관 및 병원 데이터"
      ],
      "metadata": {
        "id": "jPm-MuY9_C3T"
      }
    },
    {
      "cell_type": "code",
      "source": [
        "csv_path_mental1 = '/content/drive/MyDrive/town_cc_big_data/data/강원도 춘천시_정신건강센터 현황_20220822.csv'\n",
        "csv_path_mental2 = '/content/drive/MyDrive/town_cc_big_data/data/강원도 춘천시_정신건강의학과 현황_20220822.csv'"
      ],
      "metadata": {
        "id": "iDITf2Bf_OxI"
      },
      "execution_count": 12,
      "outputs": []
    },
    {
      "cell_type": "code",
      "source": [
        "df_old_mental1 = pd.read_csv(csv_path_mental1)\n",
        "df_old_mental2 = pd.read_csv(csv_path_mental2)\n",
        "\n",
        "df_old_mental1 = df_old_mental1[['기관명', '행정동']]\n",
        "df_old_mental2 = df_old_mental2[['상호명', '행정동']]\n",
        "\n",
        "df_mental = pd.concat([df_old_mental1, df_old_mental2.rename(columns={'상호명': '기관명'})], ignore_index=True)\n",
        "df_mental = df_mental.groupby('행정동')['기관명'].count().reset_index()\n",
        "df_mental = df_mental.sort_values('기관명', ascending = False)"
      ],
      "metadata": {
        "id": "iiAxfflS_Qp3"
      },
      "execution_count": 13,
      "outputs": []
    },
    {
      "cell_type": "markdown",
      "source": [
        "#### 1인 가구 수"
      ],
      "metadata": {
        "id": "cPqwbwlO_aTr"
      }
    },
    {
      "cell_type": "code",
      "source": [
        "csv_path_one_person = '/content/drive/MyDrive/town_cc_big_data/data/강원도 춘천시_읍면동별 1인 가구수_20220816.csv'"
      ],
      "metadata": {
        "id": "m0FvzUiI_cmy"
      },
      "execution_count": 15,
      "outputs": []
    },
    {
      "cell_type": "code",
      "source": [
        "df_one_person = pd.read_csv(csv_path_one_person, encoding='euc-kr')\n",
        "df_one_person = df_one_person.groupby('행정동')['1인가구수'].sum().reset_index()\n",
        "df_one_person = df_one_person.sort_values('1인가구수', ascending=False)"
      ],
      "metadata": {
        "id": "BPFuqeuJAMhF"
      },
      "execution_count": 17,
      "outputs": []
    },
    {
      "cell_type": "markdown",
      "source": [
        "#### 행정동별 초등학교 위치 수"
      ],
      "metadata": {
        "id": "71dEt7fGAl-F"
      }
    },
    {
      "cell_type": "code",
      "source": [
        "csv_path_elm = '/content/drive/MyDrive/town_cc_big_data/data/강원도교육청_춘천시초등학교_통학구역_20220731.csv'"
      ],
      "metadata": {
        "id": "axrK6nebBVt5"
      },
      "execution_count": 19,
      "outputs": []
    },
    {
      "cell_type": "code",
      "source": [
        "df_elm = pd.read_csv(csv_path_elm, encoding='euc-kr')\n",
        "df_elm = df_elm.groupby('행정동명')['관할학교명'].count().reset_index()\n",
        "df_elm.columns = ['행정동명', '초등학교 수']\n",
        "df_elm = df_elm.sort_values('초등학교 수', ascending=False)"
      ],
      "metadata": {
        "id": "zMi1R1ItBXVq"
      },
      "execution_count": 20,
      "outputs": []
    },
    {
      "cell_type": "markdown",
      "source": [
        "#### 아동급식카드 가맹점 수"
      ],
      "metadata": {
        "id": "aWdT97zgBdBD"
      }
    },
    {
      "cell_type": "code",
      "source": [
        "csv_path_store = '/content/drive/MyDrive/town_cc_big_data/data/강원도 춘천시_아동급식카드 가맹점_20220608.csv'"
      ],
      "metadata": {
        "id": "dQSobjORBfH_"
      },
      "execution_count": 21,
      "outputs": []
    },
    {
      "cell_type": "code",
      "source": [
        "df_store = pd.read_csv(csv_path_store, encoding='euc-kr')\n",
        "df_store = df_store[['소재지지번주소', '가맹점명']]\n",
        "for index, row in df_store.iterrows():\n",
        "    address = row['소재지지번주소']\n",
        "    split_data = address.split()\n",
        "    if len(split_data) >= 3:\n",
        "        new_data = split_data[2]\n",
        "        df_store.at[index, '소재지지번주소'] = new_data\n",
        "\n",
        "df_store = df_store.groupby('소재지지번주소').size().reset_index(name='가맹점수')\n",
        "df_store = df_store.sort_values('가맹점수', ascending=False)\n",
        "df_store = df_store.rename(columns={'가맹점수': '가맹점 수'})"
      ],
      "metadata": {
        "id": "x41FkjBnCHzm"
      },
      "execution_count": 22,
      "outputs": []
    },
    {
      "cell_type": "markdown",
      "source": [
        "### [참고] 데이터 목록\n",
        "---\n",
        "df_medical : 의료기관 데이터     \n",
        "df_old : 독거 노인 수 데이터    \n",
        "df_mental : 정신건강 관련 기관 총합 데이터        \n",
        "df_one_person : 1인 가구 수 데이터    \n",
        "df_elm : 행정동별 초등학교 위치 수 데이터     \n",
        "df_store : 아동급식카드 가맹점 수 데이터"
      ],
      "metadata": {
        "id": "MjwPbG_cCRPY"
      }
    },
    {
      "cell_type": "markdown",
      "source": [
        "### 의사결정 나무 생성"
      ],
      "metadata": {
        "id": "DzBSXrHREg9M"
      }
    },
    {
      "cell_type": "code",
      "source": [
        "from sklearn.tree import DecisionTreeClassifier\n",
        "from sklearn.model_selection import train_test_split\n",
        "from sklearn import metrics\n",
        "from sklearn.preprocessing import LabelEncoder\n",
        "from sklearn.metrics import accuracy_score"
      ],
      "metadata": {
        "id": "jEa6HUgtHbyj"
      },
      "execution_count": 102,
      "outputs": []
    },
    {
      "cell_type": "code",
      "source": [
        "df_store"
      ],
      "metadata": {
        "id": "JFPmUrUhH93p"
      },
      "execution_count": null,
      "outputs": []
    },
    {
      "cell_type": "code",
      "source": [
        "df_combined = df_medical.merge(df_old, left_on='행정동', right_on='행정동명', how='outer')\n",
        "df_combined = df_combined.merge(df_mental, left_on='행정동명', right_on='행정동', how='outer')\n",
        "df_combined = df_combined.merge(df_one_person, on='행정동', how='outer')\n",
        "df_combined = df_combined.merge(df_elm, on='행정동명', how='outer')\n",
        "df_combined = df_combined.merge(df_store, left_on='행정동명', right_on='소재지지번주소', how='outer')\n",
        "\n",
        "df_combined = df_combined.fillna('0')"
      ],
      "metadata": {
        "id": "AVn1U3RNHciI"
      },
      "execution_count": 92,
      "outputs": []
    },
    {
      "cell_type": "code",
      "source": [
        "X = df_combined[['병원 수', '인구수', '기관명', '1인가구수', '가맹점 수']]\n",
        "y = df_combined['행정동']"
      ],
      "metadata": {
        "id": "6BlobRKPLMrU"
      },
      "execution_count": 93,
      "outputs": []
    },
    {
      "cell_type": "code",
      "source": [
        "X_train, X_test, y_train, y_test = train_test_split(X, y, test_size=0.2, random_state=42)\n",
        "label_encoder = LabelEncoder()\n",
        "y_train_encoded = label_encoder.fit_transform(y_train)"
      ],
      "metadata": {
        "id": "qrwbhGvVLUhw"
      },
      "execution_count": 94,
      "outputs": []
    },
    {
      "cell_type": "code",
      "source": [
        "decision_tree = DecisionTreeClassifier()"
      ],
      "metadata": {
        "id": "z20uNxmILVXf"
      },
      "execution_count": 95,
      "outputs": []
    },
    {
      "cell_type": "code",
      "source": [
        "print(y_train.unique())"
      ],
      "metadata": {
        "colab": {
          "base_uri": "https://localhost:8080/"
        },
        "id": "PxrHW-dzMIri",
        "outputId": "553fee5b-a3f7-47bf-d485-4b75087c2aa6"
      },
      "execution_count": 96,
      "outputs": [
        {
          "output_type": "stream",
          "name": "stdout",
          "text": [
            "['0' '효자1동' '교동' '동면' '후평2동' '신사우동' '남산면' '신북읍' '후평1동' '후평동' '효자2동' '석사동'\n",
            " '약사명동' '조운동' '동내면' '퇴계동' '북산면' '효자3동' '근화동' '사북면' '강남동' '온의동' '효자동' '봉의동']\n"
          ]
        }
      ]
    },
    {
      "cell_type": "code",
      "source": [
        "decision_tree.fit(X_train, y_train_encoded)"
      ],
      "metadata": {
        "colab": {
          "base_uri": "https://localhost:8080/",
          "height": 75
        },
        "id": "4poA-9zvLX-a",
        "outputId": "12ff2e90-0075-4698-a2f7-a2a7f4423ce0"
      },
      "execution_count": 97,
      "outputs": [
        {
          "output_type": "execute_result",
          "data": {
            "text/plain": [
              "DecisionTreeClassifier()"
            ],
            "text/html": [
              "<style>#sk-container-id-1 {color: black;background-color: white;}#sk-container-id-1 pre{padding: 0;}#sk-container-id-1 div.sk-toggleable {background-color: white;}#sk-container-id-1 label.sk-toggleable__label {cursor: pointer;display: block;width: 100%;margin-bottom: 0;padding: 0.3em;box-sizing: border-box;text-align: center;}#sk-container-id-1 label.sk-toggleable__label-arrow:before {content: \"▸\";float: left;margin-right: 0.25em;color: #696969;}#sk-container-id-1 label.sk-toggleable__label-arrow:hover:before {color: black;}#sk-container-id-1 div.sk-estimator:hover label.sk-toggleable__label-arrow:before {color: black;}#sk-container-id-1 div.sk-toggleable__content {max-height: 0;max-width: 0;overflow: hidden;text-align: left;background-color: #f0f8ff;}#sk-container-id-1 div.sk-toggleable__content pre {margin: 0.2em;color: black;border-radius: 0.25em;background-color: #f0f8ff;}#sk-container-id-1 input.sk-toggleable__control:checked~div.sk-toggleable__content {max-height: 200px;max-width: 100%;overflow: auto;}#sk-container-id-1 input.sk-toggleable__control:checked~label.sk-toggleable__label-arrow:before {content: \"▾\";}#sk-container-id-1 div.sk-estimator input.sk-toggleable__control:checked~label.sk-toggleable__label {background-color: #d4ebff;}#sk-container-id-1 div.sk-label input.sk-toggleable__control:checked~label.sk-toggleable__label {background-color: #d4ebff;}#sk-container-id-1 input.sk-hidden--visually {border: 0;clip: rect(1px 1px 1px 1px);clip: rect(1px, 1px, 1px, 1px);height: 1px;margin: -1px;overflow: hidden;padding: 0;position: absolute;width: 1px;}#sk-container-id-1 div.sk-estimator {font-family: monospace;background-color: #f0f8ff;border: 1px dotted black;border-radius: 0.25em;box-sizing: border-box;margin-bottom: 0.5em;}#sk-container-id-1 div.sk-estimator:hover {background-color: #d4ebff;}#sk-container-id-1 div.sk-parallel-item::after {content: \"\";width: 100%;border-bottom: 1px solid gray;flex-grow: 1;}#sk-container-id-1 div.sk-label:hover label.sk-toggleable__label {background-color: #d4ebff;}#sk-container-id-1 div.sk-serial::before {content: \"\";position: absolute;border-left: 1px solid gray;box-sizing: border-box;top: 0;bottom: 0;left: 50%;z-index: 0;}#sk-container-id-1 div.sk-serial {display: flex;flex-direction: column;align-items: center;background-color: white;padding-right: 0.2em;padding-left: 0.2em;position: relative;}#sk-container-id-1 div.sk-item {position: relative;z-index: 1;}#sk-container-id-1 div.sk-parallel {display: flex;align-items: stretch;justify-content: center;background-color: white;position: relative;}#sk-container-id-1 div.sk-item::before, #sk-container-id-1 div.sk-parallel-item::before {content: \"\";position: absolute;border-left: 1px solid gray;box-sizing: border-box;top: 0;bottom: 0;left: 50%;z-index: -1;}#sk-container-id-1 div.sk-parallel-item {display: flex;flex-direction: column;z-index: 1;position: relative;background-color: white;}#sk-container-id-1 div.sk-parallel-item:first-child::after {align-self: flex-end;width: 50%;}#sk-container-id-1 div.sk-parallel-item:last-child::after {align-self: flex-start;width: 50%;}#sk-container-id-1 div.sk-parallel-item:only-child::after {width: 0;}#sk-container-id-1 div.sk-dashed-wrapped {border: 1px dashed gray;margin: 0 0.4em 0.5em 0.4em;box-sizing: border-box;padding-bottom: 0.4em;background-color: white;}#sk-container-id-1 div.sk-label label {font-family: monospace;font-weight: bold;display: inline-block;line-height: 1.2em;}#sk-container-id-1 div.sk-label-container {text-align: center;}#sk-container-id-1 div.sk-container {/* jupyter's `normalize.less` sets `[hidden] { display: none; }` but bootstrap.min.css set `[hidden] { display: none !important; }` so we also need the `!important` here to be able to override the default hidden behavior on the sphinx rendered scikit-learn.org. See: https://github.com/scikit-learn/scikit-learn/issues/21755 */display: inline-block !important;position: relative;}#sk-container-id-1 div.sk-text-repr-fallback {display: none;}</style><div id=\"sk-container-id-1\" class=\"sk-top-container\"><div class=\"sk-text-repr-fallback\"><pre>DecisionTreeClassifier()</pre><b>In a Jupyter environment, please rerun this cell to show the HTML representation or trust the notebook. <br />On GitHub, the HTML representation is unable to render, please try loading this page with nbviewer.org.</b></div><div class=\"sk-container\" hidden><div class=\"sk-item\"><div class=\"sk-estimator sk-toggleable\"><input class=\"sk-toggleable__control sk-hidden--visually\" id=\"sk-estimator-id-1\" type=\"checkbox\" checked><label for=\"sk-estimator-id-1\" class=\"sk-toggleable__label sk-toggleable__label-arrow\">DecisionTreeClassifier</label><div class=\"sk-toggleable__content\"><pre>DecisionTreeClassifier()</pre></div></div></div></div></div>"
            ]
          },
          "metadata": {},
          "execution_count": 97
        }
      ]
    },
    {
      "cell_type": "code",
      "source": [
        "y_pred_encoded = decision_tree.predict(X_test)\n",
        "y_pred = label_encoder.inverse_transform(y_pred_encoded)"
      ],
      "metadata": {
        "id": "KBQEtBHULYpo"
      },
      "execution_count": 99,
      "outputs": []
    },
    {
      "cell_type": "code",
      "source": [
        "y_pred"
      ],
      "metadata": {
        "colab": {
          "base_uri": "https://localhost:8080/"
        },
        "id": "Fg_cxRdPNkpI",
        "outputId": "4394dff7-0fcc-49a1-b290-54af3cc69685"
      },
      "execution_count": 105,
      "outputs": [
        {
          "output_type": "execute_result",
          "data": {
            "text/plain": [
              "array(['근화동', '북산면', '0', '0', '0', '0', '근화동', '북산면', '0', '0', '후평2동',\n",
              "       '0', '0', '후평1동', '0', '0', '봉의동', '0', '0', '0'], dtype=object)"
            ]
          },
          "metadata": {},
          "execution_count": 105
        }
      ]
    },
    {
      "cell_type": "code",
      "source": [
        "accuracy = accuracy_score(y_test, y_pred)\n",
        "accuracy"
      ],
      "metadata": {
        "colab": {
          "base_uri": "https://localhost:8080/"
        },
        "id": "D7rcC72rNIuz",
        "outputId": "80da240b-aca0-4778-c2be-befab9b29dc9"
      },
      "execution_count": 104,
      "outputs": [
        {
          "output_type": "execute_result",
          "data": {
            "text/plain": [
              "0.65"
            ]
          },
          "metadata": {},
          "execution_count": 104
        }
      ]
    },
    {
      "cell_type": "markdown",
      "source": [
        "근화동이랑 북산명, 후평동, 봉의동 이렇게 4개의 행정동이 나옴!"
      ],
      "metadata": {
        "id": "W5n211ySNnva"
      }
    }
  ]
}